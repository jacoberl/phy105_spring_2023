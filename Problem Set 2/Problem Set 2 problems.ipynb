{
 "cells": [
  {
   "cell_type": "markdown",
   "id": "1",
   "metadata": {},
   "source": [
    "## Question 1: Rigid body rotation"
   ]
  },
  {
   "cell_type": "markdown",
   "id": "2",
   "metadata": {},
   "source": [
    "### Learning objectives\n",
    "In this question you will:\n",
    "\n",
    "- analytically derive Euler's equations and study the behaviour near equilibria\n",
    "- numerically solve the equations and compare to theoretical expectations\n",
    "- simulate the free rotation of real objects and compare to empirical evidence\n"
   ]
  },
  {
   "cell_type": "markdown",
   "id": "3",
   "metadata": {
    "flags": [
     "problems",
     "solutions"
    ]
   },
   "source": [
    "Let us study the rotation of a rigid body. Recall the definitions of the angular velocity vector $\\boldsymbol\\omega$, the moment of inertia tensor $I_{ij} = \\int d^3\\mathbf{r}\\:\\rho(\\mathbf r)(r^2\\delta_{ij}-r_ir_j)$, and angular momentum vector $\\mathbf L=I\\cdot \\boldsymbol\\omega$. Recall that the torque determines the rate of change of angular momentum $\\boldsymbol\\tau = \\dot{\\mathbf L}$."
   ]
  },
  {
   "cell_type": "markdown",
   "id": "4",
   "metadata": {},
   "source": [
    "### 1a. "
   ]
  },
  {
   "cell_type": "markdown",
   "id": "5",
   "metadata": {
    "flags": [
     "problems",
     "solutions"
    ]
   },
   "source": [
    "Let's analyse the system in the body-frame in which the moment of inertia is diagonal, i.e. $$I=\\begin{pmatrix}I_1&0&0\\\\0&I_2&0\\\\0&0&I_3\\end{pmatrix}.$$ Let's call the basis vectors $\\mathbf e_1$, $\\mathbf e_2$, and $\\mathbf e_3$. Don't forget that $\\mathbf e_i$ change with time. In this basis, the angular momentum is $\\mathbf L = I_1 \\omega_1\\mathbf e_1 + I_2\\omega_2\\mathbf e_2 + I_3\\omega_3\\mathbf e_3$. Assuming there are no torques, derive the Euler equations,\\begin{align}I_1\\dot\\omega_1&=(I_2-I_3)\\omega_2\\omega_3,\\\\I_2\\dot\\omega_2&=(I_3-I_1)\\omega_1\\omega_3,\\\\I_3\\dot\\omega_3&=(I_1-I_2)\\omega_1\\omega_2.\\end{align} (Hint: for a rigid body the moment of inertia tensor is constant in the body frame. Remember than the rate of change of any vector $\\mathbf v$ rotationg with angular velocity $\\boldsymbol\\omega$ is given by $\\dot{\\mathbf v}=\\boldsymbol\\omega\\times\\mathbf v$.)"
   ]
  },
  {
   "cell_type": "markdown",
   "id": "6",
   "metadata": {},
   "source": [
    "Write your answer here"
   ]
  },
  {
   "cell_type": "markdown",
   "id": "7",
   "metadata": {},
   "source": [
    "### 1b. "
   ]
  },
  {
   "cell_type": "markdown",
   "id": "8",
   "metadata": {
    "flags": [
     "problems",
     "solutions"
    ]
   },
   "source": [
    "Fill in the following function to numerically integrate the Euler equations. No need to use a sophisticated integrator; we can use small step sizes if required."
   ]
  },
  {
   "cell_type": "code",
   "execution_count": null,
   "id": "9",
   "metadata": {
    "collapsed": true,
    "flags": [
     "problems"
    ]
   },
   "outputs": [],
   "source": [
    "import numpy as np\n",
    "\n",
    "def euler(omega0, I1, I2, I3, times):\n",
    "    \"\"\"\n",
    "    (All quantities in body frame, in diagonal basis of inertia tensor)\n",
    "    omega0: initial angular velocity, array of shape (3,) \n",
    "    I1,I2,I3: principal moments of inertia, scalars\n",
    "    times: array of times at which to find omega, array of shape (N,)\n",
    "    returns: omegas at times, array of shape (3,N)\n",
    "    \"\"\"\n",
    "    omegas = #compute omegas\n",
    "    return omegas"
   ]
  },
  {
   "cell_type": "markdown",
   "id": "10",
   "metadata": {},
   "source": [
    "### 1c. "
   ]
  },
  {
   "cell_type": "markdown",
   "id": "11",
   "metadata": {
    "flags": [
     "problems",
     "solutions"
    ]
   },
   "source": [
    "What happens when $\\boldsymbol\\omega_0$ is aligned with one of the principal moments of inertia? Check that your function `euler()` returns what you expect in this situation. "
   ]
  },
  {
   "cell_type": "markdown",
   "id": "12",
   "metadata": {},
   "source": [
    "Write your answer here"
   ]
  },
  {
   "cell_type": "markdown",
   "id": "13",
   "metadata": {},
   "source": [
    "### 1d. "
   ]
  },
  {
   "cell_type": "markdown",
   "id": "14",
   "metadata": {
    "flags": [
     "problems",
     "solutions"
    ]
   },
   "source": [
    "What happens when $I_1=I_2=I_3$? Again, check that your function makes sense."
   ]
  },
  {
   "cell_type": "markdown",
   "id": "15",
   "metadata": {},
   "source": [
    "Write your answer here"
   ]
  },
  {
   "cell_type": "markdown",
   "id": "16",
   "metadata": {},
   "source": [
    "### 1e. "
   ]
  },
  {
   "cell_type": "markdown",
   "id": "17",
   "metadata": {
    "flags": [
     "problems",
     "solutions"
    ]
   },
   "source": [
    "Show that if two of the principal moments are equal, then $\\omega$ precesses around the third principal moment. (Think of a spinning coin without gravity, or an American football.) Find the angular velocity of precession $\\omega_p=\\frac{2\\pi}{T_p}$ in terms of the parameters already defined."
   ]
  },
  {
   "cell_type": "markdown",
   "id": "18",
   "metadata": {},
   "source": [
    "Write your answer here"
   ]
  },
  {
   "cell_type": "markdown",
   "id": "19",
   "metadata": {},
   "source": [
    "### 1f. "
   ]
  },
  {
   "cell_type": "markdown",
   "id": "20",
   "metadata": {
    "flags": [
     "problems",
     "solutions"
    ]
   },
   "source": [
    "Use your solution `euler()` to estimate the precession rate $\\omega_p$ of an object with $I_1=2$, $I=1$, and $\\boldsymbol\\omega = (1,1,1)^T$ (e.g. you can find the first non-zero time when $|\\boldsymbol\\omega-\\boldsymbol\\omega_0|<\\epsilon$ for some $\\epsilon\\ll1$). Compare with theoretical expectations."
   ]
  },
  {
   "cell_type": "code",
   "execution_count": null,
   "id": "21",
   "metadata": {},
   "outputs": [],
   "source": [
    "#Write your answer here"
   ]
  },
  {
   "cell_type": "markdown",
   "id": "22",
   "metadata": {},
   "source": [
    "### 1g. "
   ]
  },
  {
   "cell_type": "markdown",
   "id": "23",
   "metadata": {
    "flags": [
     "problems",
     "solutions"
    ]
   },
   "source": [
    "Fill in the following function that analytically solves Euler's equations for $I_2=I_3\\equiv I$ using the precession that you calculated above."
   ]
  },
  {
   "cell_type": "code",
   "execution_count": null,
   "id": "24",
   "metadata": {
    "collapsed": true,
    "flags": [
     "problems"
    ]
   },
   "outputs": [],
   "source": [
    "def precession(omega0, I1, I, times):\n",
    "    \"\"\"\n",
    "    (All quantities in body frame, in diagonal basis of inertia tensor)\n",
    "    omega0: initial angular velocity, array of shape (3,) \n",
    "    I1,I: principal moments of inertia (I2=I3=I), scalars\n",
    "    times: array of times at which to find omega, array of shape (N,)\n",
    "    returns: omegas at times, array of shape (N,3)\n",
    "    \"\"\"\n",
    "    omegas = #compute omegas\n",
    "    return omegas"
   ]
  },
  {
   "cell_type": "markdown",
   "id": "25",
   "metadata": {},
   "source": [
    "### 1h. "
   ]
  },
  {
   "cell_type": "markdown",
   "id": "26",
   "metadata": {
    "flags": [
     "problems",
     "solutions"
    ]
   },
   "source": [
    "Recall than in torque-free motion the energy is given by the kinetic energy, $T=\\frac{1}{2}\\boldsymbol\\omega\\cdot I\\cdot\\boldsymbol\\omega.$ Fill in the following function that calculates the energy from a given $\\boldsymbol\\omega$ and $I$ in the preferred body frame."
   ]
  },
  {
   "cell_type": "code",
   "execution_count": null,
   "id": "27",
   "metadata": {
    "collapsed": true,
    "flags": [
     "problems"
    ]
   },
   "outputs": [],
   "source": [
    "def energy(omega,I1,I2,I3):\n",
    "    \"\"\"\n",
    "    omega: angular velocity vector, shape (3,)\n",
    "    I1,I2,I3: principal moments of inertia, scalars\n",
    "    returns: energy, scalar\n",
    "    \"\"\"\n",
    "    return #energy"
   ]
  },
  {
   "cell_type": "markdown",
   "id": "28",
   "metadata": {},
   "source": [
    "### 1i. "
   ]
  },
  {
   "cell_type": "markdown",
   "id": "29",
   "metadata": {
    "flags": [
     "problems",
     "solutions"
    ]
   },
   "source": [
    "In $\\boldsymbol\\omega$-space, what shape do the energy contours take? Recall that since energy is conserved, $\\boldsymbol\\omega$ is constrained to be on such surfaces.\n",
    "\n",
    "The following function is supposed to plot multiple trajectories overlaid on the allowed energy surface. It is almost complete, except that it currently plots the energy surface as the unit sphere regardless of input. Complete the function. (Hint: you can obtain the energy surfaces by re-scaling the dimensions of a sphere.)"
   ]
  },
  {
   "cell_type": "code",
   "execution_count": null,
   "id": "30",
   "metadata": {
    "collapsed": true,
    "flags": [
     "problems"
    ]
   },
   "outputs": [],
   "source": [
    "from matplotlib import pyplot as plt\n",
    "from mpl_toolkits.mplot3d import Axes3D\n",
    "%matplotlib notebook\n",
    "#use %matplotlib inline if notebook doesn't work..\n",
    "\n",
    "def plot_trajectories(trajectories,I1,I2,I3):\n",
    "    \"\"\"\n",
    "    trajectories: array of shape (M,N,3) containing M omega vectors at N time-steps\n",
    "                (all omega vectors assumed to be at the same energy)\n",
    "    I1, I2, I3: principal moments of inertia\n",
    "    returns nothing, plots trajectories as lines in 3d plot overlaid on energy \n",
    "                ellipsoid (using energy of first omega vector of first trajectory)\n",
    "    \"\"\"\n",
    "    N = 20\n",
    "    theta,phi = np.linspace(0,np.pi,N),np.linspace(0,2*np.pi,2*N)\n",
    "    theta, phi = np.meshgrid(theta, phi)\n",
    "    \n",
    "    T = energy(trajectories[0,0],I1,I2,I3)\n",
    "\n",
    "    #Hint: rescale variables (multiply x,y,z with a factor each)\n",
    "    x = np.sin(theta)*np.cos(phi)\n",
    "    y = np.sin(theta)*np.sin(phi)\n",
    "    z = np.cos(theta)\n",
    "\n",
    "    fig = plt.figure(figsize=(8,8))\n",
    "    ax = Axes3D(fig)\n",
    "    ax.plot_surface(x,y,z,alpha=.2,facecolors=[[\"w\"]*N]*2*N)\n",
    "    ax.set_xlabel(\"$\\omega_1$\")\n",
    "    ax.set_ylabel(\"$\\omega_2$\")\n",
    "    ax.set_zlabel(\"$\\omega_3$\")\n",
    "    \n",
    "    bound = np.amax([x,y,z])\n",
    "    ax.set_xlim(-bound,bound)\n",
    "    ax.set_ylim(-bound,bound)\n",
    "    ax.set_zlim(-bound,bound)\n",
    "    \n",
    "    for omegas in trajectories:\n",
    "        ax.plot(*omegas.T)"
   ]
  },
  {
   "cell_type": "code",
   "execution_count": null,
   "id": "31",
   "metadata": {},
   "outputs": [],
   "source": [
    "#Write your answer here"
   ]
  },
  {
   "cell_type": "markdown",
   "id": "32",
   "metadata": {},
   "source": [
    "### 1j. "
   ]
  },
  {
   "cell_type": "markdown",
   "id": "33",
   "metadata": {
    "flags": [
     "problems",
     "solutions"
    ]
   },
   "source": [
    "The following cell plots the trajectories of some randomly chosen initial $\\boldsymbol\\omega$s. You can use your visualisation of energy and your implementation of `euler()` to test each other. Once your energy visualisation is consistent with your plotted trajectories, try increasing the step size. What happens? What does this tell you about the integrator you are using?"
   ]
  },
  {
   "cell_type": "code",
   "execution_count": null,
   "id": "34",
   "metadata": {
    "collapsed": true,
    "flags": [
     "problems"
    ]
   },
   "outputs": [],
   "source": [
    "def get_random_initials(I1,I2,I3,energy=1,n=30):\n",
    "    \"\"\"\n",
    "    I1,I2,I3: principal moments of inertia, scalars\n",
    "    energy: energy of initial states\n",
    "    n: number of points to sample\n",
    "    returns: n randomly chosen omega vectors with given energy\n",
    "    \"\"\"\n",
    "    randoms = np.zeros((n,3))\n",
    "    for i in range(n): #sample uniformly from sphere using rejection\n",
    "        x = np.random.rand(3)*2-1\n",
    "        r = np.sum(x**2)\n",
    "        while r > 1:\n",
    "            x = np.random.rand(3)*2-1\n",
    "            r = np.sum(x**2)\n",
    "        randoms[i] = x/r**.5\n",
    "    randoms[:,0] = randoms[:,0]*(2*energy/I1)**.5\n",
    "    randoms[:,1] = randoms[:,1]*(2*energy/I2)**.5\n",
    "    randoms[:,2] = randoms[:,2]*(2*energy/I3)**.5\n",
    "    return randoms\n",
    "\n",
    "I = 2,1,0.5\n",
    "omega0s = get_random_initials(*I)\n",
    "times = np.linspace(0,20,10000)\n",
    "traj = np.array([euler(o,*I,times) for o in omega0s])\n",
    "plot_trajectories(traj,*I)"
   ]
  },
  {
   "cell_type": "markdown",
   "id": "35",
   "metadata": {},
   "source": [
    "### 1k. "
   ]
  },
  {
   "cell_type": "markdown",
   "id": "36",
   "metadata": {
    "flags": [
     "problems",
     "solutions"
    ]
   },
   "source": [
    "Use these visualisation techniques to compare your analytical solution `precession()` with your numerical solution `euler()` for $I_2=I_3=I$. Plot both $I_1<I$ and $I_1>I$."
   ]
  },
  {
   "cell_type": "code",
   "execution_count": null,
   "id": "37",
   "metadata": {},
   "outputs": [],
   "source": [
    "#Write your answer here"
   ]
  },
  {
   "cell_type": "markdown",
   "id": "38",
   "metadata": {},
   "source": [
    "### 1l. "
   ]
  },
  {
   "cell_type": "markdown",
   "id": "39",
   "metadata": {
    "flags": [
     "problems",
     "solutions"
    ]
   },
   "source": [
    "The Earth's axis of rotation precesses with a period of about 430 days (not to be confused with the precession of 26,000 years around its orbital rotation axis, which is caused mostly by tidal/gravitational forces). This precession is known as _Chandler wobble_. Assuming the Earth is a rigid oblate spherioid (i.e. $I_1>I$), estimate the fractional asymmetry of the principal moments of inertia (i.e. $\\frac{I-I_1}{I}$). From this, assuming the Earth's density is a scaled spherically symmetric distribution (like how you created the energy ellipsoid surfaces), calculate its _ellipticity_ (ratio of major to minor axes)."
   ]
  },
  {
   "cell_type": "markdown",
   "id": "40",
   "metadata": {},
   "source": [
    "Write your answer here"
   ]
  },
  {
   "cell_type": "markdown",
   "id": "41",
   "metadata": {},
   "source": [
    "### 1m. "
   ]
  },
  {
   "cell_type": "markdown",
   "id": "42",
   "metadata": {
    "flags": [
     "problems",
     "solutions"
    ]
   },
   "source": [
    "Real data for the Chandler wobble is shown below. \n",
    "\n",
    "<div style=\"width: 500px;margin: auto\" align=\"center\">\n",
    "    <img src=\"chandler wobble.gif\">\n",
    "    Source: <a href=\"http://www.michaelmandeville.com/earthmonitor/polarmotion/plots/chandler_wobble_plots.htm\">Michael Mandeville</a>\n",
    "</div>\n",
    "\n",
    "Does this match the prediction from Euler's equations? If not, then are Euler's euqations wrong, or do some of our assumptions (which ones?) about the Earth break down?"
   ]
  },
  {
   "cell_type": "markdown",
   "id": "43",
   "metadata": {},
   "source": [
    "Write your answer here"
   ]
  },
  {
   "cell_type": "markdown",
   "id": "44",
   "metadata": {},
   "source": [
    "### 1n. "
   ]
  },
  {
   "cell_type": "markdown",
   "id": "45",
   "metadata": {
    "flags": [
     "problems",
     "solutions"
    ]
   },
   "source": [
    "Now consider the general case, $I_1>I_2>I_3$ (in the approriate basis). We know that the principal moments of inertia are fixed points (equilibria) for $\\boldsymbol\\omega$. However, are they stable? Analyse the motion very close to the principal moments (i.e. linearise the differential equation). Which of these equilibria are stable? Are there any other equilibria? Does this agree with the visualisation you made earlier?"
   ]
  },
  {
   "cell_type": "markdown",
   "id": "46",
   "metadata": {},
   "source": [
    "Write your answer here"
   ]
  },
  {
   "cell_type": "markdown",
   "id": "47",
   "metadata": {},
   "source": [
    "### 1o. "
   ]
  },
  {
   "cell_type": "markdown",
   "id": "48",
   "metadata": {
    "flags": [
     "problems",
     "solutions"
    ]
   },
   "source": [
    "Consider the following video of  the rotation of a free rigid body taken on the ISS. Note that the initial angular velocity vector is very close to a principal moment of inertia. (Hint: Try throwing a coin in the air. Does it display this behaviour? How about a deck of cards? Estimate the principal axes and moments of inertia of a deck of cards, and try spinning it around each of these axes while throwing it into the air. Which axes display simple rotation and which display this flipping behaviour?)"
   ]
  },
  {
   "cell_type": "code",
   "execution_count": 16,
   "id": "49",
   "metadata": {
    "flags": [
     "problems",
     "solutions"
    ]
   },
   "outputs": [
    {
     "data": {
      "text/html": [
       "<video src=\"Dancing T-handle in zero-g.mp4\" controls  width=\"700\" >\n",
       "      Your browser does not support the <code>video</code> element.\n",
       "    </video>"
      ],
      "text/plain": [
       "<IPython.core.display.Video object>"
      ]
     },
     "execution_count": 16,
     "metadata": {},
     "output_type": "execute_result"
    }
   ],
   "source": [
    "from IPython.display import Video\n",
    "Video(\"Dancing T-handle in zero-g.mp4\",width=700)"
   ]
  },
  {
   "cell_type": "markdown",
   "id": "50",
   "metadata": {
    "flags": [
     "problems",
     "solutions"
    ]
   },
   "source": [
    "What can you conclude about the values of the principal moments of inertia, and specifically the moment that it starts off close to?"
   ]
  },
  {
   "cell_type": "markdown",
   "id": "51",
   "metadata": {},
   "source": [
    "Write your answer here"
   ]
  },
  {
   "cell_type": "markdown",
   "id": "52",
   "metadata": {},
   "source": [
    "### 1p. "
   ]
  },
  {
   "cell_type": "markdown",
   "id": "53",
   "metadata": {
    "flags": [
     "problems",
     "solutions"
    ]
   },
   "source": [
    "Consider the following crude approximation of the T-junction:"
   ]
  },
  {
   "cell_type": "code",
   "execution_count": 17,
   "id": "54",
   "metadata": {
    "flags": [
     "problems",
     "solutions"
    ]
   },
   "outputs": [
    {
     "data": {
      "application/javascript": [
       "/* Put everything inside the global mpl namespace */\n",
       "window.mpl = {};\n",
       "\n",
       "\n",
       "mpl.get_websocket_type = function() {\n",
       "    if (typeof(WebSocket) !== 'undefined') {\n",
       "        return WebSocket;\n",
       "    } else if (typeof(MozWebSocket) !== 'undefined') {\n",
       "        return MozWebSocket;\n",
       "    } else {\n",
       "        alert('Your browser does not have WebSocket support. ' +\n",
       "              'Please try Chrome, Safari or Firefox ≥ 6. ' +\n",
       "              'Firefox 4 and 5 are also supported but you ' +\n",
       "              'have to enable WebSockets in about:config.');\n",
       "    };\n",
       "}\n",
       "\n",
       "mpl.figure = function(figure_id, websocket, ondownload, parent_element) {\n",
       "    this.id = figure_id;\n",
       "\n",
       "    this.ws = websocket;\n",
       "\n",
       "    this.supports_binary = (this.ws.binaryType != undefined);\n",
       "\n",
       "    if (!this.supports_binary) {\n",
       "        var warnings = document.getElementById(\"mpl-warnings\");\n",
       "        if (warnings) {\n",
       "            warnings.style.display = 'block';\n",
       "            warnings.textContent = (\n",
       "                \"This browser does not support binary websocket messages. \" +\n",
       "                    \"Performance may be slow.\");\n",
       "        }\n",
       "    }\n",
       "\n",
       "    this.imageObj = new Image();\n",
       "\n",
       "    this.context = undefined;\n",
       "    this.message = undefined;\n",
       "    this.canvas = undefined;\n",
       "    this.rubberband_canvas = undefined;\n",
       "    this.rubberband_context = undefined;\n",
       "    this.format_dropdown = undefined;\n",
       "\n",
       "    this.image_mode = 'full';\n",
       "\n",
       "    this.root = $('<div/>');\n",
       "    this._root_extra_style(this.root)\n",
       "    this.root.attr('style', 'display: inline-block');\n",
       "\n",
       "    $(parent_element).append(this.root);\n",
       "\n",
       "    this._init_header(this);\n",
       "    this._init_canvas(this);\n",
       "    this._init_toolbar(this);\n",
       "\n",
       "    var fig = this;\n",
       "\n",
       "    this.waiting = false;\n",
       "\n",
       "    this.ws.onopen =  function () {\n",
       "            fig.send_message(\"supports_binary\", {value: fig.supports_binary});\n",
       "            fig.send_message(\"send_image_mode\", {});\n",
       "            if (mpl.ratio != 1) {\n",
       "                fig.send_message(\"set_dpi_ratio\", {'dpi_ratio': mpl.ratio});\n",
       "            }\n",
       "            fig.send_message(\"refresh\", {});\n",
       "        }\n",
       "\n",
       "    this.imageObj.onload = function() {\n",
       "            if (fig.image_mode == 'full') {\n",
       "                // Full images could contain transparency (where diff images\n",
       "                // almost always do), so we need to clear the canvas so that\n",
       "                // there is no ghosting.\n",
       "                fig.context.clearRect(0, 0, fig.canvas.width, fig.canvas.height);\n",
       "            }\n",
       "            fig.context.drawImage(fig.imageObj, 0, 0);\n",
       "        };\n",
       "\n",
       "    this.imageObj.onunload = function() {\n",
       "        fig.ws.close();\n",
       "    }\n",
       "\n",
       "    this.ws.onmessage = this._make_on_message_function(this);\n",
       "\n",
       "    this.ondownload = ondownload;\n",
       "}\n",
       "\n",
       "mpl.figure.prototype._init_header = function() {\n",
       "    var titlebar = $(\n",
       "        '<div class=\"ui-dialog-titlebar ui-widget-header ui-corner-all ' +\n",
       "        'ui-helper-clearfix\"/>');\n",
       "    var titletext = $(\n",
       "        '<div class=\"ui-dialog-title\" style=\"width: 100%; ' +\n",
       "        'text-align: center; padding: 3px;\"/>');\n",
       "    titlebar.append(titletext)\n",
       "    this.root.append(titlebar);\n",
       "    this.header = titletext[0];\n",
       "}\n",
       "\n",
       "\n",
       "\n",
       "mpl.figure.prototype._canvas_extra_style = function(canvas_div) {\n",
       "\n",
       "}\n",
       "\n",
       "\n",
       "mpl.figure.prototype._root_extra_style = function(canvas_div) {\n",
       "\n",
       "}\n",
       "\n",
       "mpl.figure.prototype._init_canvas = function() {\n",
       "    var fig = this;\n",
       "\n",
       "    var canvas_div = $('<div/>');\n",
       "\n",
       "    canvas_div.attr('style', 'position: relative; clear: both; outline: 0');\n",
       "\n",
       "    function canvas_keyboard_event(event) {\n",
       "        return fig.key_event(event, event['data']);\n",
       "    }\n",
       "\n",
       "    canvas_div.keydown('key_press', canvas_keyboard_event);\n",
       "    canvas_div.keyup('key_release', canvas_keyboard_event);\n",
       "    this.canvas_div = canvas_div\n",
       "    this._canvas_extra_style(canvas_div)\n",
       "    this.root.append(canvas_div);\n",
       "\n",
       "    var canvas = $('<canvas/>');\n",
       "    canvas.addClass('mpl-canvas');\n",
       "    canvas.attr('style', \"left: 0; top: 0; z-index: 0; outline: 0\")\n",
       "\n",
       "    this.canvas = canvas[0];\n",
       "    this.context = canvas[0].getContext(\"2d\");\n",
       "\n",
       "    var backingStore = this.context.backingStorePixelRatio ||\n",
       "\tthis.context.webkitBackingStorePixelRatio ||\n",
       "\tthis.context.mozBackingStorePixelRatio ||\n",
       "\tthis.context.msBackingStorePixelRatio ||\n",
       "\tthis.context.oBackingStorePixelRatio ||\n",
       "\tthis.context.backingStorePixelRatio || 1;\n",
       "\n",
       "    mpl.ratio = (window.devicePixelRatio || 1) / backingStore;\n",
       "\n",
       "    var rubberband = $('<canvas/>');\n",
       "    rubberband.attr('style', \"position: absolute; left: 0; top: 0; z-index: 1;\")\n",
       "\n",
       "    var pass_mouse_events = true;\n",
       "\n",
       "    canvas_div.resizable({\n",
       "        start: function(event, ui) {\n",
       "            pass_mouse_events = false;\n",
       "        },\n",
       "        resize: function(event, ui) {\n",
       "            fig.request_resize(ui.size.width, ui.size.height);\n",
       "        },\n",
       "        stop: function(event, ui) {\n",
       "            pass_mouse_events = true;\n",
       "            fig.request_resize(ui.size.width, ui.size.height);\n",
       "        },\n",
       "    });\n",
       "\n",
       "    function mouse_event_fn(event) {\n",
       "        if (pass_mouse_events)\n",
       "            return fig.mouse_event(event, event['data']);\n",
       "    }\n",
       "\n",
       "    rubberband.mousedown('button_press', mouse_event_fn);\n",
       "    rubberband.mouseup('button_release', mouse_event_fn);\n",
       "    // Throttle sequential mouse events to 1 every 20ms.\n",
       "    rubberband.mousemove('motion_notify', mouse_event_fn);\n",
       "\n",
       "    rubberband.mouseenter('figure_enter', mouse_event_fn);\n",
       "    rubberband.mouseleave('figure_leave', mouse_event_fn);\n",
       "\n",
       "    canvas_div.on(\"wheel\", function (event) {\n",
       "        event = event.originalEvent;\n",
       "        event['data'] = 'scroll'\n",
       "        if (event.deltaY < 0) {\n",
       "            event.step = 1;\n",
       "        } else {\n",
       "            event.step = -1;\n",
       "        }\n",
       "        mouse_event_fn(event);\n",
       "    });\n",
       "\n",
       "    canvas_div.append(canvas);\n",
       "    canvas_div.append(rubberband);\n",
       "\n",
       "    this.rubberband = rubberband;\n",
       "    this.rubberband_canvas = rubberband[0];\n",
       "    this.rubberband_context = rubberband[0].getContext(\"2d\");\n",
       "    this.rubberband_context.strokeStyle = \"#000000\";\n",
       "\n",
       "    this._resize_canvas = function(width, height) {\n",
       "        // Keep the size of the canvas, canvas container, and rubber band\n",
       "        // canvas in synch.\n",
       "        canvas_div.css('width', width)\n",
       "        canvas_div.css('height', height)\n",
       "\n",
       "        canvas.attr('width', width * mpl.ratio);\n",
       "        canvas.attr('height', height * mpl.ratio);\n",
       "        canvas.attr('style', 'width: ' + width + 'px; height: ' + height + 'px;');\n",
       "\n",
       "        rubberband.attr('width', width);\n",
       "        rubberband.attr('height', height);\n",
       "    }\n",
       "\n",
       "    // Set the figure to an initial 600x600px, this will subsequently be updated\n",
       "    // upon first draw.\n",
       "    this._resize_canvas(600, 600);\n",
       "\n",
       "    // Disable right mouse context menu.\n",
       "    $(this.rubberband_canvas).bind(\"contextmenu\",function(e){\n",
       "        return false;\n",
       "    });\n",
       "\n",
       "    function set_focus () {\n",
       "        canvas.focus();\n",
       "        canvas_div.focus();\n",
       "    }\n",
       "\n",
       "    window.setTimeout(set_focus, 100);\n",
       "}\n",
       "\n",
       "mpl.figure.prototype._init_toolbar = function() {\n",
       "    var fig = this;\n",
       "\n",
       "    var nav_element = $('<div/>');\n",
       "    nav_element.attr('style', 'width: 100%');\n",
       "    this.root.append(nav_element);\n",
       "\n",
       "    // Define a callback function for later on.\n",
       "    function toolbar_event(event) {\n",
       "        return fig.toolbar_button_onclick(event['data']);\n",
       "    }\n",
       "    function toolbar_mouse_event(event) {\n",
       "        return fig.toolbar_button_onmouseover(event['data']);\n",
       "    }\n",
       "\n",
       "    for(var toolbar_ind in mpl.toolbar_items) {\n",
       "        var name = mpl.toolbar_items[toolbar_ind][0];\n",
       "        var tooltip = mpl.toolbar_items[toolbar_ind][1];\n",
       "        var image = mpl.toolbar_items[toolbar_ind][2];\n",
       "        var method_name = mpl.toolbar_items[toolbar_ind][3];\n",
       "\n",
       "        if (!name) {\n",
       "            // put a spacer in here.\n",
       "            continue;\n",
       "        }\n",
       "        var button = $('<button/>');\n",
       "        button.addClass('ui-button ui-widget ui-state-default ui-corner-all ' +\n",
       "                        'ui-button-icon-only');\n",
       "        button.attr('role', 'button');\n",
       "        button.attr('aria-disabled', 'false');\n",
       "        button.click(method_name, toolbar_event);\n",
       "        button.mouseover(tooltip, toolbar_mouse_event);\n",
       "\n",
       "        var icon_img = $('<span/>');\n",
       "        icon_img.addClass('ui-button-icon-primary ui-icon');\n",
       "        icon_img.addClass(image);\n",
       "        icon_img.addClass('ui-corner-all');\n",
       "\n",
       "        var tooltip_span = $('<span/>');\n",
       "        tooltip_span.addClass('ui-button-text');\n",
       "        tooltip_span.html(tooltip);\n",
       "\n",
       "        button.append(icon_img);\n",
       "        button.append(tooltip_span);\n",
       "\n",
       "        nav_element.append(button);\n",
       "    }\n",
       "\n",
       "    var fmt_picker_span = $('<span/>');\n",
       "\n",
       "    var fmt_picker = $('<select/>');\n",
       "    fmt_picker.addClass('mpl-toolbar-option ui-widget ui-widget-content');\n",
       "    fmt_picker_span.append(fmt_picker);\n",
       "    nav_element.append(fmt_picker_span);\n",
       "    this.format_dropdown = fmt_picker[0];\n",
       "\n",
       "    for (var ind in mpl.extensions) {\n",
       "        var fmt = mpl.extensions[ind];\n",
       "        var option = $(\n",
       "            '<option/>', {selected: fmt === mpl.default_extension}).html(fmt);\n",
       "        fmt_picker.append(option);\n",
       "    }\n",
       "\n",
       "    // Add hover states to the ui-buttons\n",
       "    $( \".ui-button\" ).hover(\n",
       "        function() { $(this).addClass(\"ui-state-hover\");},\n",
       "        function() { $(this).removeClass(\"ui-state-hover\");}\n",
       "    );\n",
       "\n",
       "    var status_bar = $('<span class=\"mpl-message\"/>');\n",
       "    nav_element.append(status_bar);\n",
       "    this.message = status_bar[0];\n",
       "}\n",
       "\n",
       "mpl.figure.prototype.request_resize = function(x_pixels, y_pixels) {\n",
       "    // Request matplotlib to resize the figure. Matplotlib will then trigger a resize in the client,\n",
       "    // which will in turn request a refresh of the image.\n",
       "    this.send_message('resize', {'width': x_pixels, 'height': y_pixels});\n",
       "}\n",
       "\n",
       "mpl.figure.prototype.send_message = function(type, properties) {\n",
       "    properties['type'] = type;\n",
       "    properties['figure_id'] = this.id;\n",
       "    this.ws.send(JSON.stringify(properties));\n",
       "}\n",
       "\n",
       "mpl.figure.prototype.send_draw_message = function() {\n",
       "    if (!this.waiting) {\n",
       "        this.waiting = true;\n",
       "        this.ws.send(JSON.stringify({type: \"draw\", figure_id: this.id}));\n",
       "    }\n",
       "}\n",
       "\n",
       "\n",
       "mpl.figure.prototype.handle_save = function(fig, msg) {\n",
       "    var format_dropdown = fig.format_dropdown;\n",
       "    var format = format_dropdown.options[format_dropdown.selectedIndex].value;\n",
       "    fig.ondownload(fig, format);\n",
       "}\n",
       "\n",
       "\n",
       "mpl.figure.prototype.handle_resize = function(fig, msg) {\n",
       "    var size = msg['size'];\n",
       "    if (size[0] != fig.canvas.width || size[1] != fig.canvas.height) {\n",
       "        fig._resize_canvas(size[0], size[1]);\n",
       "        fig.send_message(\"refresh\", {});\n",
       "    };\n",
       "}\n",
       "\n",
       "mpl.figure.prototype.handle_rubberband = function(fig, msg) {\n",
       "    var x0 = msg['x0'] / mpl.ratio;\n",
       "    var y0 = (fig.canvas.height - msg['y0']) / mpl.ratio;\n",
       "    var x1 = msg['x1'] / mpl.ratio;\n",
       "    var y1 = (fig.canvas.height - msg['y1']) / mpl.ratio;\n",
       "    x0 = Math.floor(x0) + 0.5;\n",
       "    y0 = Math.floor(y0) + 0.5;\n",
       "    x1 = Math.floor(x1) + 0.5;\n",
       "    y1 = Math.floor(y1) + 0.5;\n",
       "    var min_x = Math.min(x0, x1);\n",
       "    var min_y = Math.min(y0, y1);\n",
       "    var width = Math.abs(x1 - x0);\n",
       "    var height = Math.abs(y1 - y0);\n",
       "\n",
       "    fig.rubberband_context.clearRect(\n",
       "        0, 0, fig.canvas.width, fig.canvas.height);\n",
       "\n",
       "    fig.rubberband_context.strokeRect(min_x, min_y, width, height);\n",
       "}\n",
       "\n",
       "mpl.figure.prototype.handle_figure_label = function(fig, msg) {\n",
       "    // Updates the figure title.\n",
       "    fig.header.textContent = msg['label'];\n",
       "}\n",
       "\n",
       "mpl.figure.prototype.handle_cursor = function(fig, msg) {\n",
       "    var cursor = msg['cursor'];\n",
       "    switch(cursor)\n",
       "    {\n",
       "    case 0:\n",
       "        cursor = 'pointer';\n",
       "        break;\n",
       "    case 1:\n",
       "        cursor = 'default';\n",
       "        break;\n",
       "    case 2:\n",
       "        cursor = 'crosshair';\n",
       "        break;\n",
       "    case 3:\n",
       "        cursor = 'move';\n",
       "        break;\n",
       "    }\n",
       "    fig.rubberband_canvas.style.cursor = cursor;\n",
       "}\n",
       "\n",
       "mpl.figure.prototype.handle_message = function(fig, msg) {\n",
       "    fig.message.textContent = msg['message'];\n",
       "}\n",
       "\n",
       "mpl.figure.prototype.handle_draw = function(fig, msg) {\n",
       "    // Request the server to send over a new figure.\n",
       "    fig.send_draw_message();\n",
       "}\n",
       "\n",
       "mpl.figure.prototype.handle_image_mode = function(fig, msg) {\n",
       "    fig.image_mode = msg['mode'];\n",
       "}\n",
       "\n",
       "mpl.figure.prototype.updated_canvas_event = function() {\n",
       "    // Called whenever the canvas gets updated.\n",
       "    this.send_message(\"ack\", {});\n",
       "}\n",
       "\n",
       "// A function to construct a web socket function for onmessage handling.\n",
       "// Called in the figure constructor.\n",
       "mpl.figure.prototype._make_on_message_function = function(fig) {\n",
       "    return function socket_on_message(evt) {\n",
       "        if (evt.data instanceof Blob) {\n",
       "            /* FIXME: We get \"Resource interpreted as Image but\n",
       "             * transferred with MIME type text/plain:\" errors on\n",
       "             * Chrome.  But how to set the MIME type?  It doesn't seem\n",
       "             * to be part of the websocket stream */\n",
       "            evt.data.type = \"image/png\";\n",
       "\n",
       "            /* Free the memory for the previous frames */\n",
       "            if (fig.imageObj.src) {\n",
       "                (window.URL || window.webkitURL).revokeObjectURL(\n",
       "                    fig.imageObj.src);\n",
       "            }\n",
       "\n",
       "            fig.imageObj.src = (window.URL || window.webkitURL).createObjectURL(\n",
       "                evt.data);\n",
       "            fig.updated_canvas_event();\n",
       "            fig.waiting = false;\n",
       "            return;\n",
       "        }\n",
       "        else if (typeof evt.data === 'string' && evt.data.slice(0, 21) == \"data:image/png;base64\") {\n",
       "            fig.imageObj.src = evt.data;\n",
       "            fig.updated_canvas_event();\n",
       "            fig.waiting = false;\n",
       "            return;\n",
       "        }\n",
       "\n",
       "        var msg = JSON.parse(evt.data);\n",
       "        var msg_type = msg['type'];\n",
       "\n",
       "        // Call the  \"handle_{type}\" callback, which takes\n",
       "        // the figure and JSON message as its only arguments.\n",
       "        try {\n",
       "            var callback = fig[\"handle_\" + msg_type];\n",
       "        } catch (e) {\n",
       "            console.log(\"No handler for the '\" + msg_type + \"' message type: \", msg);\n",
       "            return;\n",
       "        }\n",
       "\n",
       "        if (callback) {\n",
       "            try {\n",
       "                // console.log(\"Handling '\" + msg_type + \"' message: \", msg);\n",
       "                callback(fig, msg);\n",
       "            } catch (e) {\n",
       "                console.log(\"Exception inside the 'handler_\" + msg_type + \"' callback:\", e, e.stack, msg);\n",
       "            }\n",
       "        }\n",
       "    };\n",
       "}\n",
       "\n",
       "// from http://stackoverflow.com/questions/1114465/getting-mouse-location-in-canvas\n",
       "mpl.findpos = function(e) {\n",
       "    //this section is from http://www.quirksmode.org/js/events_properties.html\n",
       "    var targ;\n",
       "    if (!e)\n",
       "        e = window.event;\n",
       "    if (e.target)\n",
       "        targ = e.target;\n",
       "    else if (e.srcElement)\n",
       "        targ = e.srcElement;\n",
       "    if (targ.nodeType == 3) // defeat Safari bug\n",
       "        targ = targ.parentNode;\n",
       "\n",
       "    // jQuery normalizes the pageX and pageY\n",
       "    // pageX,Y are the mouse positions relative to the document\n",
       "    // offset() returns the position of the element relative to the document\n",
       "    var x = e.pageX - $(targ).offset().left;\n",
       "    var y = e.pageY - $(targ).offset().top;\n",
       "\n",
       "    return {\"x\": x, \"y\": y};\n",
       "};\n",
       "\n",
       "/*\n",
       " * return a copy of an object with only non-object keys\n",
       " * we need this to avoid circular references\n",
       " * http://stackoverflow.com/a/24161582/3208463\n",
       " */\n",
       "function simpleKeys (original) {\n",
       "  return Object.keys(original).reduce(function (obj, key) {\n",
       "    if (typeof original[key] !== 'object')\n",
       "        obj[key] = original[key]\n",
       "    return obj;\n",
       "  }, {});\n",
       "}\n",
       "\n",
       "mpl.figure.prototype.mouse_event = function(event, name) {\n",
       "    var canvas_pos = mpl.findpos(event)\n",
       "\n",
       "    if (name === 'button_press')\n",
       "    {\n",
       "        this.canvas.focus();\n",
       "        this.canvas_div.focus();\n",
       "    }\n",
       "\n",
       "    var x = canvas_pos.x * mpl.ratio;\n",
       "    var y = canvas_pos.y * mpl.ratio;\n",
       "\n",
       "    this.send_message(name, {x: x, y: y, button: event.button,\n",
       "                             step: event.step,\n",
       "                             guiEvent: simpleKeys(event)});\n",
       "\n",
       "    /* This prevents the web browser from automatically changing to\n",
       "     * the text insertion cursor when the button is pressed.  We want\n",
       "     * to control all of the cursor setting manually through the\n",
       "     * 'cursor' event from matplotlib */\n",
       "    event.preventDefault();\n",
       "    return false;\n",
       "}\n",
       "\n",
       "mpl.figure.prototype._key_event_extra = function(event, name) {\n",
       "    // Handle any extra behaviour associated with a key event\n",
       "}\n",
       "\n",
       "mpl.figure.prototype.key_event = function(event, name) {\n",
       "\n",
       "    // Prevent repeat events\n",
       "    if (name == 'key_press')\n",
       "    {\n",
       "        if (event.which === this._key)\n",
       "            return;\n",
       "        else\n",
       "            this._key = event.which;\n",
       "    }\n",
       "    if (name == 'key_release')\n",
       "        this._key = null;\n",
       "\n",
       "    var value = '';\n",
       "    if (event.ctrlKey && event.which != 17)\n",
       "        value += \"ctrl+\";\n",
       "    if (event.altKey && event.which != 18)\n",
       "        value += \"alt+\";\n",
       "    if (event.shiftKey && event.which != 16)\n",
       "        value += \"shift+\";\n",
       "\n",
       "    value += 'k';\n",
       "    value += event.which.toString();\n",
       "\n",
       "    this._key_event_extra(event, name);\n",
       "\n",
       "    this.send_message(name, {key: value,\n",
       "                             guiEvent: simpleKeys(event)});\n",
       "    return false;\n",
       "}\n",
       "\n",
       "mpl.figure.prototype.toolbar_button_onclick = function(name) {\n",
       "    if (name == 'download') {\n",
       "        this.handle_save(this, null);\n",
       "    } else {\n",
       "        this.send_message(\"toolbar_button\", {name: name});\n",
       "    }\n",
       "};\n",
       "\n",
       "mpl.figure.prototype.toolbar_button_onmouseover = function(tooltip) {\n",
       "    this.message.textContent = tooltip;\n",
       "};\n",
       "mpl.toolbar_items = [[\"Home\", \"Reset original view\", \"fa fa-home icon-home\", \"home\"], [\"Back\", \"Back to previous view\", \"fa fa-arrow-left icon-arrow-left\", \"back\"], [\"Forward\", \"Forward to next view\", \"fa fa-arrow-right icon-arrow-right\", \"forward\"], [\"\", \"\", \"\", \"\"], [\"Pan\", \"Pan axes with left mouse, zoom with right\", \"fa fa-arrows icon-move\", \"pan\"], [\"Zoom\", \"Zoom to rectangle\", \"fa fa-square-o icon-check-empty\", \"zoom\"], [\"\", \"\", \"\", \"\"], [\"Download\", \"Download plot\", \"fa fa-floppy-o icon-save\", \"download\"]];\n",
       "\n",
       "mpl.extensions = [\"eps\", \"jpeg\", \"pdf\", \"png\", \"ps\", \"raw\", \"svg\", \"tif\"];\n",
       "\n",
       "mpl.default_extension = \"png\";var comm_websocket_adapter = function(comm) {\n",
       "    // Create a \"websocket\"-like object which calls the given IPython comm\n",
       "    // object with the appropriate methods. Currently this is a non binary\n",
       "    // socket, so there is still some room for performance tuning.\n",
       "    var ws = {};\n",
       "\n",
       "    ws.close = function() {\n",
       "        comm.close()\n",
       "    };\n",
       "    ws.send = function(m) {\n",
       "        //console.log('sending', m);\n",
       "        comm.send(m);\n",
       "    };\n",
       "    // Register the callback with on_msg.\n",
       "    comm.on_msg(function(msg) {\n",
       "        //console.log('receiving', msg['content']['data'], msg);\n",
       "        // Pass the mpl event to the overridden (by mpl) onmessage function.\n",
       "        ws.onmessage(msg['content']['data'])\n",
       "    });\n",
       "    return ws;\n",
       "}\n",
       "\n",
       "mpl.mpl_figure_comm = function(comm, msg) {\n",
       "    // This is the function which gets called when the mpl process\n",
       "    // starts-up an IPython Comm through the \"matplotlib\" channel.\n",
       "\n",
       "    var id = msg.content.data.id;\n",
       "    // Get hold of the div created by the display call when the Comm\n",
       "    // socket was opened in Python.\n",
       "    var element = $(\"#\" + id);\n",
       "    var ws_proxy = comm_websocket_adapter(comm)\n",
       "\n",
       "    function ondownload(figure, format) {\n",
       "        window.open(figure.imageObj.src);\n",
       "    }\n",
       "\n",
       "    var fig = new mpl.figure(id, ws_proxy,\n",
       "                           ondownload,\n",
       "                           element.get(0));\n",
       "\n",
       "    // Call onopen now - mpl needs it, as it is assuming we've passed it a real\n",
       "    // web socket which is closed, not our websocket->open comm proxy.\n",
       "    ws_proxy.onopen();\n",
       "\n",
       "    fig.parent_element = element.get(0);\n",
       "    fig.cell_info = mpl.find_output_cell(\"<div id='\" + id + \"'></div>\");\n",
       "    if (!fig.cell_info) {\n",
       "        console.error(\"Failed to find cell for figure\", id, fig);\n",
       "        return;\n",
       "    }\n",
       "\n",
       "    var output_index = fig.cell_info[2]\n",
       "    var cell = fig.cell_info[0];\n",
       "\n",
       "};\n",
       "\n",
       "mpl.figure.prototype.handle_close = function(fig, msg) {\n",
       "    var width = fig.canvas.width/mpl.ratio\n",
       "    fig.root.unbind('remove')\n",
       "\n",
       "    // Update the output cell to use the data from the current canvas.\n",
       "    fig.push_to_output();\n",
       "    var dataURL = fig.canvas.toDataURL();\n",
       "    // Re-enable the keyboard manager in IPython - without this line, in FF,\n",
       "    // the notebook keyboard shortcuts fail.\n",
       "    IPython.keyboard_manager.enable()\n",
       "    $(fig.parent_element).html('<img src=\"' + dataURL + '\" width=\"' + width + '\">');\n",
       "    fig.close_ws(fig, msg);\n",
       "}\n",
       "\n",
       "mpl.figure.prototype.close_ws = function(fig, msg){\n",
       "    fig.send_message('closing', msg);\n",
       "    // fig.ws.close()\n",
       "}\n",
       "\n",
       "mpl.figure.prototype.push_to_output = function(remove_interactive) {\n",
       "    // Turn the data on the canvas into data in the output cell.\n",
       "    var width = this.canvas.width/mpl.ratio\n",
       "    var dataURL = this.canvas.toDataURL();\n",
       "    this.cell_info[1]['text/html'] = '<img src=\"' + dataURL + '\" width=\"' + width + '\">';\n",
       "}\n",
       "\n",
       "mpl.figure.prototype.updated_canvas_event = function() {\n",
       "    // Tell IPython that the notebook contents must change.\n",
       "    IPython.notebook.set_dirty(true);\n",
       "    this.send_message(\"ack\", {});\n",
       "    var fig = this;\n",
       "    // Wait a second, then push the new image to the DOM so\n",
       "    // that it is saved nicely (might be nice to debounce this).\n",
       "    setTimeout(function () { fig.push_to_output() }, 1000);\n",
       "}\n",
       "\n",
       "mpl.figure.prototype._init_toolbar = function() {\n",
       "    var fig = this;\n",
       "\n",
       "    var nav_element = $('<div/>');\n",
       "    nav_element.attr('style', 'width: 100%');\n",
       "    this.root.append(nav_element);\n",
       "\n",
       "    // Define a callback function for later on.\n",
       "    function toolbar_event(event) {\n",
       "        return fig.toolbar_button_onclick(event['data']);\n",
       "    }\n",
       "    function toolbar_mouse_event(event) {\n",
       "        return fig.toolbar_button_onmouseover(event['data']);\n",
       "    }\n",
       "\n",
       "    for(var toolbar_ind in mpl.toolbar_items){\n",
       "        var name = mpl.toolbar_items[toolbar_ind][0];\n",
       "        var tooltip = mpl.toolbar_items[toolbar_ind][1];\n",
       "        var image = mpl.toolbar_items[toolbar_ind][2];\n",
       "        var method_name = mpl.toolbar_items[toolbar_ind][3];\n",
       "\n",
       "        if (!name) { continue; };\n",
       "\n",
       "        var button = $('<button class=\"btn btn-default\" href=\"#\" title=\"' + name + '\"><i class=\"fa ' + image + ' fa-lg\"></i></button>');\n",
       "        button.click(method_name, toolbar_event);\n",
       "        button.mouseover(tooltip, toolbar_mouse_event);\n",
       "        nav_element.append(button);\n",
       "    }\n",
       "\n",
       "    // Add the status bar.\n",
       "    var status_bar = $('<span class=\"mpl-message\" style=\"text-align:right; float: right;\"/>');\n",
       "    nav_element.append(status_bar);\n",
       "    this.message = status_bar[0];\n",
       "\n",
       "    // Add the close button to the window.\n",
       "    var buttongrp = $('<div class=\"btn-group inline pull-right\"></div>');\n",
       "    var button = $('<button class=\"btn btn-mini btn-primary\" href=\"#\" title=\"Stop Interaction\"><i class=\"fa fa-power-off icon-remove icon-large\"></i></button>');\n",
       "    button.click(function (evt) { fig.handle_close(fig, {}); } );\n",
       "    button.mouseover('Stop Interaction', toolbar_mouse_event);\n",
       "    buttongrp.append(button);\n",
       "    var titlebar = this.root.find($('.ui-dialog-titlebar'));\n",
       "    titlebar.prepend(buttongrp);\n",
       "}\n",
       "\n",
       "mpl.figure.prototype._root_extra_style = function(el){\n",
       "    var fig = this\n",
       "    el.on(\"remove\", function(){\n",
       "\tfig.close_ws(fig, {});\n",
       "    });\n",
       "}\n",
       "\n",
       "mpl.figure.prototype._canvas_extra_style = function(el){\n",
       "    // this is important to make the div 'focusable\n",
       "    el.attr('tabindex', 0)\n",
       "    // reach out to IPython and tell the keyboard manager to turn it's self\n",
       "    // off when our div gets focus\n",
       "\n",
       "    // location in version 3\n",
       "    if (IPython.notebook.keyboard_manager) {\n",
       "        IPython.notebook.keyboard_manager.register_events(el);\n",
       "    }\n",
       "    else {\n",
       "        // location in version 2\n",
       "        IPython.keyboard_manager.register_events(el);\n",
       "    }\n",
       "\n",
       "}\n",
       "\n",
       "mpl.figure.prototype._key_event_extra = function(event, name) {\n",
       "    var manager = IPython.notebook.keyboard_manager;\n",
       "    if (!manager)\n",
       "        manager = IPython.keyboard_manager;\n",
       "\n",
       "    // Check for shift+enter\n",
       "    if (event.shiftKey && event.which == 13) {\n",
       "        this.canvas_div.blur();\n",
       "        event.shiftKey = false;\n",
       "        // Send a \"J\" for go to next cell\n",
       "        event.which = 74;\n",
       "        event.keyCode = 74;\n",
       "        manager.command_mode();\n",
       "        manager.handle_keydown(event);\n",
       "    }\n",
       "}\n",
       "\n",
       "mpl.figure.prototype.handle_save = function(fig, msg) {\n",
       "    fig.ondownload(fig, null);\n",
       "}\n",
       "\n",
       "\n",
       "mpl.find_output_cell = function(html_output) {\n",
       "    // Return the cell and output element which can be found *uniquely* in the notebook.\n",
       "    // Note - this is a bit hacky, but it is done because the \"notebook_saving.Notebook\"\n",
       "    // IPython event is triggered only after the cells have been serialised, which for\n",
       "    // our purposes (turning an active figure into a static one), is too late.\n",
       "    var cells = IPython.notebook.get_cells();\n",
       "    var ncells = cells.length;\n",
       "    for (var i=0; i<ncells; i++) {\n",
       "        var cell = cells[i];\n",
       "        if (cell.cell_type === 'code'){\n",
       "            for (var j=0; j<cell.output_area.outputs.length; j++) {\n",
       "                var data = cell.output_area.outputs[j];\n",
       "                if (data.data) {\n",
       "                    // IPython >= 3 moved mimebundle to data attribute of output\n",
       "                    data = data.data;\n",
       "                }\n",
       "                if (data['text/html'] == html_output) {\n",
       "                    return [cell, data, j];\n",
       "                }\n",
       "            }\n",
       "        }\n",
       "    }\n",
       "}\n",
       "\n",
       "// Register the function which deals with the matplotlib target/channel.\n",
       "// The kernel may be null if the page has been refreshed.\n",
       "if (IPython.notebook.kernel != null) {\n",
       "    IPython.notebook.kernel.comm_manager.register_target('matplotlib', mpl.mpl_figure_comm);\n",
       "}\n"
      ],
      "text/plain": [
       "<IPython.core.display.Javascript object>"
      ]
     },
     "metadata": {},
     "output_type": "display_data"
    },
    {
     "data": {
      "text/html": [
       "<img src=\"data:image/png;base64,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\" width=\"800\">"
      ],
      "text/plain": [
       "<IPython.core.display.HTML object>"
      ]
     },
     "metadata": {},
     "output_type": "display_data"
    },
    {
     "data": {
      "text/plain": [
       "(-3, 3)"
      ]
     },
     "execution_count": 17,
     "metadata": {},
     "output_type": "execute_result"
    }
   ],
   "source": [
    "theta,z = np.linspace(0,2*np.pi,20),np.linspace(0,1,10)\n",
    "theta,z = np.meshgrid(theta,z)\n",
    "\n",
    "rod = np.array([np.cos(theta),np.sin(theta),5*z])\n",
    "\n",
    "#arrays of shape (3,M,N) that store positions of vertices\n",
    "rod1 = rod-np.array([0,0,2.5]).reshape((3,1,1))\n",
    "rod2 = np.array([rod[0,:5],rod[2,:5],rod[1,:5]])\n",
    "\n",
    "fig = plt.figure(figsize=(8,8))\n",
    "ax = Axes3D(fig) #create Axes3D object to display the plot\n",
    "ax.plot_surface(*rod1)\n",
    "ax.plot_surface(*rod2)\n",
    "ax.set_xlabel(\"$x$\")\n",
    "ax.set_ylabel(\"$y$\")\n",
    "ax.set_zlabel(\"$z$\")\n",
    "ax.set_xlim(-3,3)\n",
    "ax.set_ylim(-3,3)\n",
    "ax.set_zlim(-3,3)"
   ]
  },
  {
   "cell_type": "markdown",
   "id": "55",
   "metadata": {
    "flags": [
     "problems",
     "solutions"
    ]
   },
   "source": [
    "In this crude approximation, assume there is a particle of mass $m=1$ at each vertex. Calculate the moment of inertia tensor $I_{ij} = \\sum m(r^2\\delta_{ij}-r_ir_j)$ (where the sum is taken over the particles of mass $m$ at position $\\mathbf r$). By construction, we expect it to be roughly diagonal in this basis. If it is not, diagonalise it (hint: `numpy.linalg.eig`). Note the principal moments."
   ]
  },
  {
   "cell_type": "code",
   "execution_count": null,
   "id": "56",
   "metadata": {},
   "outputs": [],
   "source": [
    "#Write your answer here"
   ]
  },
  {
   "cell_type": "markdown",
   "id": "57",
   "metadata": {},
   "source": [
    "### 1q. "
   ]
  },
  {
   "cell_type": "markdown",
   "id": "58",
   "metadata": {
    "flags": [
     "problems",
     "solutions"
    ]
   },
   "source": [
    "Use `plot_trajectories()` to visualise the trajectory assuming $\\boldsymbol\\omega$ starts very close to the relevant moment. (Remember you are plotting only one trajectory, so need to give it a list containing one list of angular velocity vectors.)"
   ]
  },
  {
   "cell_type": "code",
   "execution_count": null,
   "id": "59",
   "metadata": {},
   "outputs": [],
   "source": [
    "#Write your answer here"
   ]
  },
  {
   "cell_type": "markdown",
   "id": "79",
   "metadata": {},
   "source": [
    "### 1r. "
   ]
  },
  {
   "cell_type": "markdown",
   "id": "80",
   "metadata": {
    "flags": [
     "problems",
     "solutions"
    ]
   },
   "source": [
    "In the previous questions, we assumed that objects rotate freely in zero-gravity, e.g. on the ISS. We also assumed that they rotate freely in the presence of gravity when thrown in the air. However, they don't rotate freely in the presence of gravity when, e.g. resting on a table. What exactly does it mean for something to rotate freely, and where does this difference in behaviour come from?"
   ]
  },
  {
   "cell_type": "markdown",
   "id": "81",
   "metadata": {},
   "source": [
    "Write your answer here"
   ]
  }
 ],
 "metadata": {
  "kernelspec": {
   "display_name": "Python 3 (ipykernel)",
   "language": "python",
   "name": "python3"
  },
  "language_info": {
   "codemirror_mode": {
    "name": "ipython",
    "version": 3
   },
   "file_extension": ".py",
   "mimetype": "text/x-python",
   "name": "python",
   "nbconvert_exporter": "python",
   "pygments_lexer": "ipython3",
   "version": "3.10.9"
  }
 },
 "nbformat": 4,
 "nbformat_minor": 5
}
