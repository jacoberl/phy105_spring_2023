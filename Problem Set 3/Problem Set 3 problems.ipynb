{
 "cells": [
  {
   "cell_type": "markdown",
   "metadata": {},
   "source": [
    "# Problem Set 3 problems"
   ],
   "id": "0"
  },
  {
   "cell_type": "markdown",
   "metadata": {},
   "source": [
    "## Question 1: Double pendulum"
   ],
   "id": "1"
  },
  {
   "cell_type": "markdown",
   "metadata": {},
   "source": [
    "### Learning objectives\n",
    "In this question you will:\n",
    "\n",
    "- study the double pendulum theoretically using Lagrangian mechanics\n",
    "- numerically solve differential equations that can't be solved analytically\n",
    "- assess the effectiveness of numerics by comparing theoretical expectations to numerical results\n",
    "- understand what people mean by \"chaos\" by analysing a chaotic system\n"
   ],
   "id": "2"
  },
  {
   "cell_type": "markdown",
   "metadata": {
    "flags": [
     "problems",
     "solutions"
    ]
   },
   "source": [
    "The double pendulum is pictured below:\n",
    "\n",
    "<div style=\"width: 500px;margin: auto\" align=\"center\">\n",
    "    <img src=\"double_pendulum.PNG\">\n",
    "</div>"
   ],
   "id": "3"
  },
  {
   "cell_type": "markdown",
   "metadata": {},
   "source": [
    "### 1a. "
   ],
   "id": "4"
  },
  {
   "cell_type": "markdown",
   "metadata": {
    "flags": [
     "problems",
     "solutions"
    ]
   },
   "source": [
    "Show that the Lagrangian of the system is given by $$L=\\tfrac{1}{2}(m_1+m_2)L_1^2\\dot\\phi_1^2+\\tfrac{1}{2}m_2L_2^2\\dot\\phi_2^2+m_2L_1L_2\\dot\\phi_1\\dot\\phi_2\\cos(\\phi_2-\\phi_1)-(m_1+m_2)gL_1(1-\\cos\\phi_1)-m_2gL_2(1-\\cos\\phi_2).$$"
   ],
   "id": "5"
  },
  {
   "cell_type": "markdown",
   "metadata": {},
   "source": [
    "Write your answer here"
   ],
   "id": "6"
  },
  {
   "cell_type": "markdown",
   "metadata": {},
   "source": [
    "### 1b. "
   ],
   "id": "7"
  },
  {
   "cell_type": "markdown",
   "metadata": {
    "flags": [
     "problems",
     "solutions"
    ]
   },
   "source": [
    "Find the equations of motion."
   ],
   "id": "8"
  },
  {
   "cell_type": "markdown",
   "metadata": {},
   "source": [
    "Write your answer here"
   ],
   "id": "9"
  },
  {
   "cell_type": "markdown",
   "metadata": {},
   "source": [
    "### 1c. "
   ],
   "id": "10"
  },
  {
   "cell_type": "markdown",
   "metadata": {
    "flags": [
     "problems",
     "solutions"
    ]
   },
   "source": [
    "Under the small angle approximation $\\phi_1,\\phi_2\\ll1$ (keeping only first-order terms), find the normal modes of oscillation, which is pictured below for a simple choice of parameters.\n",
    "\n",
    "<div style=\"width: 500px;margin: auto\" align=\"center\">\n",
    "    <img src=\"normal_modes.gif\">\n",
    "    The normal modes for $m_1=m_1$, $L_1=L_2$, and time measured in natural units. (Angles are exaggerated; this is only valid in the small-angle regime.)\n",
    "</div>"
   ],
   "id": "11"
  },
  {
   "cell_type": "markdown",
   "metadata": {},
   "source": [
    "Write your answer here"
   ],
   "id": "12"
  },
  {
   "cell_type": "markdown",
   "metadata": {},
   "source": [
    "### 1d. "
   ],
   "id": "13"
  },
  {
   "cell_type": "markdown",
   "metadata": {
    "flags": [
     "problems",
     "solutions"
    ]
   },
   "source": [
    "Now use your theoretical solution for small angles to fill in the following Python function that, given the initial state of the double pendulum, returns the states at some specified times. Use the convention $(\\phi_1,\\phi_2,\\dot\\phi_1,\\dot\\phi_2)^T$ for the state. (Hint: transform to the basis of normal modes and then transform back. The usual mapping of $\\mathbb{R}^{2n}$ to $\\mathbb{C}^n$ might be useful here.)"
   ],
   "id": "14"
  },
  {
   "cell_type": "code",
   "execution_count": null,
   "metadata": {
    "collapsed": true,
    "flags": [
     "problems"
    ]
   },
   "outputs": [],
   "source": [
    "import numpy as np\n",
    "\n",
    "def small_angle_soln(initial_state, tmax, N, m1=1, m2=1, L1=1, L2=1, g=1):\n",
    "    \"\"\"\n",
    "    Returns: tuple (times, states) where:\n",
    "    times is an array of shape (N,) evenly sampled from 0 to tmax,\n",
    "    states is array of shape (4,N) containing corresponding states in \n",
    "        the format (phi_1, phi_2, d/dt phi_1, d/dt phi_2)\n",
    "    \"\"\"\n",
    "    times = np.linspace(0,tmax,N)\n",
    "    \n",
    "    phi1 = \n",
    "    phi2 = \n",
    "    dotphi1 = \n",
    "    dotphi2 = \n",
    "    \n",
    "    return times, np.array([phi1, phi2, dotphi1, dotphi2])"
   ],
   "id": "15"
  },
  {
   "cell_type": "markdown",
   "metadata": {},
   "source": [
    "### 1e. "
   ],
   "id": "16"
  },
  {
   "cell_type": "markdown",
   "metadata": {
    "flags": [
     "problems",
     "solutions"
    ]
   },
   "source": [
    "The following cells contains a visualisation function that animates the double pendulum given a list of times and state vectors. You might find it useful."
   ],
   "id": "17"
  },
  {
   "cell_type": "code",
   "execution_count": 2,
   "metadata": {
    "collapsed": true,
    "flags": [
     "problems",
     "solutions"
    ]
   },
   "outputs": [],
   "source": [
    "%matplotlib inline\n",
    "from matplotlib import pyplot as plt\n",
    "from matplotlib.animation import FuncAnimation\n",
    "from IPython.display import display,HTML\n",
    "\n",
    "plt.rcParams[\"animation.embed_limit\"] = 200 \n",
    "#sets the max animation size to 200MB so that you can make long animations if you want\n",
    "\n",
    "def animate(times, states, c=\"k\", m1=1, m2=1, L1=1, L2=1, g=1, labels=None):\n",
    "    \"\"\"\n",
    "    Returns animation of pendula (or pendulum). \n",
    "    times must be array of shape (N,).\n",
    "    states must be array of shape (4,N), or list-like of n such arrays. (n is # of pendula)\n",
    "        states must follow the usual convention.\n",
    "    c must be list-like of length n. c[i] will be the colour of pendulum i.\n",
    "    m1...g are problem parameters (g has no effect here)\n",
    "    if labels are provided, must be list-like of length n. labels[i] will be label of pendulum i.\n",
    "    Returns nothing, but displays the animation.\n",
    "    \"\"\"\n",
    "    #change matplotlib backend so plots aren't displayed (only animation is)\n",
    "    %matplotlib agg\n",
    "    n = len(c) #number of pendula\n",
    "    N = len(times) #number of frames\n",
    "    xs, ys = [], [] #positions of pendula (store them to update them during animation)\n",
    "    strings = [] #line objects depicting strings (store them to update them during animation)\n",
    "    pendula = [] #(tuples of) circle objects depiciting masses (store them to update them during animation)\n",
    "    f = plt.figure(figsize=(6,6))\n",
    "    labels = [None]*n if labels is None else labels\n",
    "    for i in range(n):\n",
    "        state = states[i] if n>1 else angles #get (4,N) state vector array\n",
    "        x,y = np.zeros((N,3)), np.zeros((N,3)) #positions of string ends (which contains positions of pendula)\n",
    "        y[:,1] = -L1*np.cos(state[0])\n",
    "        x[:,1] = L1*np.sin(state[0])\n",
    "        y[:,2] = y[:,1] - L2*np.cos(state[1])\n",
    "        x[:,2] = x[:,1] + L2*np.sin(state[1])\n",
    "        xs.append(x) #store positions\n",
    "        ys.append(y)\n",
    "        args = {\"color\": c[i], \"alpha\": sqrt(1/n)} #plotting args\n",
    "        strings.append(plt.plot(x[0], y[0], label=labels[i], **args)[0]) #plot string at initial posn, store line object\n",
    "        pend = plt.Circle((x[0,1],y[0,1]), m1**(1/3)/10, **args), plt.Circle((x[0,2],y[0,2]), m2**(1/3)/10, **args)\n",
    "        [plt.gca().add_artist(p) for p in pend] #plot masses at initial posn\n",
    "        pendula.append(pend) #store circle\n",
    "    tit = plt.title(f\"$t=0$\") #store title object to update time\n",
    "    padding = m2**(1/3)/10+0.1\n",
    "    plt.xlim(-L1-L2-padding,L1+L2+padding) #set bounds so pundulum is always displayed\n",
    "    plt.ylim(-L1-L2-padding,L1+L2+padding)\n",
    "    to_ret = [tit]+strings #list of things to be updated at each frame (for blitting)\n",
    "    for p in pendula:\n",
    "        to_ret += list(p)\n",
    "    plt.xticks([]) #don't display the scale of axes\n",
    "    plt.yticks([])\n",
    "    plt.gca().set_aspect(\"equal\") #set aspect ratio to 1\n",
    "    if labels[0] is not None: #add legend if wanted\n",
    "        plt.legend(frameon=False, loc=\"upper left\")\n",
    "    \n",
    "    def update(j):\n",
    "        tit.set_text(f\"$t={times[j]:.2f}$\") #update time in title\n",
    "        for i in range(n):\n",
    "            strings[i].set_data(xs[i][j],ys[i][j]) #update string ends\n",
    "            pendula[i][0].set_center((xs[i][j,1],ys[i][j,1])) #update first mass\n",
    "            pendula[i][1].set_center((xs[i][j,2],ys[i][j,2])) #update second mass\n",
    "        return to_ret #return changed elements for blitting\n",
    "    \n",
    "    anim = FuncAnimation(f, update, range(N), interval=1e3/24, blit=True) #24 fps\n",
    "    display(HTML(anim.to_jshtml())) #output animation\n",
    "    %matplotlib inline"
   ],
   "id": "18"
  },
  {
   "cell_type": "markdown",
   "metadata": {
    "flags": [
     "problems",
     "solutions"
    ]
   },
   "source": [
    "As a test of your `small_angle_soln()`, and to show you how to use the `animate()` function, fill in the appropriate initial states to recover the normal modes for $m_1=m_2$ and $L_1=L_2$, and compare your animation to the one embedded above."
   ],
   "id": "19"
  },
  {
   "cell_type": "code",
   "execution_count": null,
   "metadata": {
    "collapsed": true,
    "flags": [
     "problems"
    ]
   },
   "outputs": [],
   "source": [
    "initial_state_1 = #answer here\n",
    "initial_state_2 = #answer here\n",
    "\n",
    "tmax = 20\n",
    "N = 200\n",
    "\n",
    "times, normal_mode_1 = small_angle_soln(initial_state_1, tmax, N)\n",
    "times, normal_mode_2 = small_angle_soln(initial_state_2, tmax, N)\n",
    "\n",
    "animate(times, (normal_mode_1, normal_mode_2), \"rb\")"
   ],
   "id": "20"
  },
  {
   "cell_type": "markdown",
   "metadata": {},
   "source": [
    "### 1f. "
   ],
   "id": "21"
  },
  {
   "cell_type": "markdown",
   "metadata": {
    "flags": [
     "problems",
     "solutions"
    ]
   },
   "source": [
    "The following cells contain a visualisation function that plots a sampled trajectory in phase space."
   ],
   "id": "22"
  },
  {
   "cell_type": "code",
   "execution_count": 4,
   "metadata": {
    "collapsed": true,
    "flags": [
     "problems",
     "solutions"
    ]
   },
   "outputs": [],
   "source": [
    "from matplotlib.colors import Normalize\n",
    "from matplotlib.colorbar import ColorbarBase\n",
    "from matplotlib import cm as cmaps\n",
    "\n",
    "def plot_phase_space(times, states, size=1, cmap=cmaps.rainbow):\n",
    "    \"\"\"\n",
    "    times must be array of shape (N,) and states must be array of shape (4,N) following usual conventions.\n",
    "    size is the size of marker (you might want to reduce it if N is large).\n",
    "    cmap must be a matplotlib colourmap.\n",
    "    Returns nothing, plots the sampled trajectory in 4-d phase space as 6 2-d plots. \n",
    "    \"\"\"\n",
    "    f,ax = plt.subplots(3, 3, sharex=True, sharey=True, figsize=(12,12), gridspec_kw={\"hspace\": 0.02, \"wspace\": 0.02})\n",
    "    labels = [r\"$\\phi_1$\", r\"$\\phi_2$\", r\"$\\dot\\phi_1$\", r\"$\\dot\\phi_2$\"]\n",
    "    args = {\"c\": times, \"s\": size, \"cmap\": cmap}\n",
    "    for i in range(3):\n",
    "        ax[i,0].set_ylabel(labels[i+1])\n",
    "        ax[-1,i].set_xlabel(labels[i])\n",
    "        for j in range(i+1):\n",
    "            ax[i,j].scatter(states[j], states[i+1], **args)\n",
    "        for j in range(i+1,3):\n",
    "            ax[i,j].axis(\"off\")\n",
    "    cbax =  f.add_axes([0.58,0.87,0.3,.01])\n",
    "    ColorbarBase(cbax, cmap=cmap, norm=Normalize(times[0], times[-1]), orientation=\"horizontal\", label=\"$t$\")"
   ],
   "id": "23"
  },
  {
   "cell_type": "markdown",
   "metadata": {
    "flags": [
     "problems",
     "solutions"
    ]
   },
   "source": [
    "Run the following cell to visualise the solutions you animated above in phase space. Is this what you expect?"
   ],
   "id": "24"
  },
  {
   "cell_type": "code",
   "execution_count": null,
   "metadata": {
    "collapsed": true,
    "flags": [
     "problems"
    ]
   },
   "outputs": [],
   "source": [
    "plot_phase_space(times, normal_mode_1)"
   ],
   "id": "25"
  },
  {
   "cell_type": "code",
   "execution_count": null,
   "metadata": {
    "collapsed": true,
    "flags": [
     "problems"
    ]
   },
   "outputs": [],
   "source": [
    "plot_phase_space(times, normal_mode_2)"
   ],
   "id": "26"
  },
  {
   "cell_type": "markdown",
   "metadata": {
    "flags": [
     "problems",
     "solutions"
    ]
   },
   "source": [
    "Now play around with the system. Plot phase space trajectories for some other initial states that are not normal modes. Use large values for $t_\\max$ and $N$. What does the phase space trajectory look like? Is it periodic, or dense in some allowed phase space? \n",
    "\n",
    "An _ergodic_ system is a system in which from any starting state, one reaches arbitrarily close to any given state at some time. Does this system (linearised under the small-angle approximation) display ergodicity?"
   ],
   "id": "27"
  },
  {
   "cell_type": "code",
   "execution_count": null,
   "metadata": {
    "collapsed": true,
    "flags": [
     "problems"
    ]
   },
   "outputs": [],
   "source": [
    "plot_phase_space(*small_angle_soln([0,1,0,0],500,10000))"
   ],
   "id": "28"
  },
  {
   "cell_type": "code",
   "execution_count": null,
   "metadata": {
    "collapsed": true,
    "flags": [
     "problems"
    ]
   },
   "outputs": [],
   "source": [],
   "id": "29"
  },
  {
   "cell_type": "markdown",
   "metadata": {},
   "source": [
    "### 1g. "
   ],
   "id": "30"
  },
  {
   "cell_type": "markdown",
   "metadata": {
    "flags": [
     "problems",
     "solutions"
    ]
   },
   "source": [
    "Rewrite the (full) equations of motion as a (non-linear) four-dimensional first-order ODE. Use the same convention for the state, $(\\phi_1,\\phi_2,\\dot\\phi_1,\\dot\\phi_2)^T$."
   ],
   "id": "31"
  },
  {
   "cell_type": "markdown",
   "metadata": {},
   "source": [
    "Write your answer here"
   ],
   "id": "32"
  },
  {
   "cell_type": "markdown",
   "metadata": {},
   "source": [
    "### 1h. "
   ],
   "id": "33"
  },
  {
   "cell_type": "markdown",
   "metadata": {
    "flags": [
     "problems",
     "solutions"
    ]
   },
   "source": [
    "Implement your answer above in the following function: "
   ],
   "id": "34"
  },
  {
   "cell_type": "code",
   "execution_count": null,
   "metadata": {
    "collapsed": true,
    "flags": [
     "problems"
    ]
   },
   "outputs": [],
   "source": [
    "def derivative(state, m1=1, m2=1, L1=1, L2=1, g=1):\n",
    "    \"\"\"Given state of shape (4,) as well as the problem parameters, \n",
    "    returns an array of shape (4,) representing the time-derivative of the state\"\"\"\n",
    "    der = \n",
    "    #fill in your answer here\n",
    "    return der"
   ],
   "id": "35"
  },
  {
   "cell_type": "markdown",
   "metadata": {},
   "source": [
    "### 1i. "
   ],
   "id": "36"
  },
  {
   "cell_type": "markdown",
   "metadata": {
    "flags": [
     "problems",
     "solutions"
    ]
   },
   "source": [
    "Solve the EoMs analytically.\n",
    "\n",
    "Lol jk, let's use some differential equation solvers to solve the full, non-linear EoMs which we can't solve analytically. The functions given below are implementations of the Euler, Symplectic Euler, and a 5<sup>th</sup> order Runge-Kutta method (these methods are introduced in the [introductory Python notebooks](https://github.com/avirukt/intro_python/blob/master/Intro%20to%20numerics.ipynb)) and follow the same conventions (and have the same call signature) as `small_angle_soln()`. They will solve the ODE defined by your implementation of `derivative()`, which, if you did everything right, are the EoMs of the double pendulum."
   ],
   "id": "37"
  },
  {
   "cell_type": "code",
   "execution_count": 10,
   "metadata": {
    "collapsed": true,
    "flags": [
     "problems",
     "solutions"
    ]
   },
   "outputs": [],
   "source": [
    "from scipy.integrate import solve_ivp\n",
    "\n",
    "def euler(initial_state, tmax, N, **extra_args):\n",
    "    times = np.linspace(0,tmax,N)\n",
    "    dt = times[1]-times[0]\n",
    "    states = np.zeros((N,4))\n",
    "    states[0] = initial_state\n",
    "    for i in range(N-1):\n",
    "        states[i+1] = states[i] + derivative(states[i], **extra_args)*dt\n",
    "    return times, states.T\n",
    "    \n",
    "def symplectic_euler(initial_state, tmax, N, **extra_args):\n",
    "    times = np.linspace(0,tmax,N)\n",
    "    dt = times[1]-times[0]\n",
    "    states = np.zeros((N,4))\n",
    "    states[0] = initial_state\n",
    "    for i in range(N-1):\n",
    "        states[i+1,2:] = states[i,2:] + derivative(states[i], **extra_args)[2:]*dt\n",
    "        states[i+1,:2] = states[i,:2] + states[i+1,2:]*dt\n",
    "    return times, states.T\n",
    "\n",
    "def runge_kutta(initial_state, tmax, N, **extra_args):\n",
    "    times = np.linspace(0,tmax,N)\n",
    "    fn = lambda t,y: derivative(y, **extra_args)\n",
    "    soln = solve_ivp(fn, (0, tmax), initial_state, max_step=tmax/(N+1), dense_output=True).sol\n",
    "    return times, soln(times)"
   ],
   "id": "38"
  },
  {
   "cell_type": "markdown",
   "metadata": {
    "flags": [
     "problems",
     "solutions"
    ]
   },
   "source": [
    "Here is a function that will plot phase-space plots (and, optionally, an animation) of trajectories sampled using each of the three methods (and, optionally, the theoretical small-angle solution) for comparison. There is also a helper function to bring angles within the interval $[-\\pi,\\pi)$, which might be useful later."
   ],
   "id": "39"
  },
  {
   "cell_type": "code",
   "execution_count": 11,
   "metadata": {
    "collapsed": true,
    "flags": [
     "problems",
     "solutions"
    ]
   },
   "outputs": [],
   "source": [
    "def bound_angles(states):\n",
    "    \"\"\"Returns copy of states, where angles are in the interval [-pi,pi)\"\"\"\n",
    "    states = states.copy()\n",
    "    states[:2] = (states[:2]+np.pi)%(2*np.pi)-np.pi\n",
    "    return states\n",
    "\n",
    "def compare_methods(*args, theo=False, anim=True, energies=False, **extra_args):\n",
    "    \"\"\"\n",
    "    First three args must be initial_state, tmax and N.\n",
    "    theo is boolean for whether or not to include theoretical small-angle solution in comparison.\n",
    "    anim is boolean for whether or not to animate the trajectories (takes a while, so don't use for large N).\n",
    "    energies is boolean for whether or not to plot the energies as well. (requires function \"energy\" to be defined)\n",
    "    extra_args are problem parameters.\n",
    "    Returns nothing, solves ODE using the 3-4 methods, and plots phase-space trajectories (and animations).\n",
    "    \"\"\"\n",
    "    labels = [\"Euler\", \"symplectic Euler\", \"5th-order Runge-Kutta\"]\n",
    "    methods = [euler, symplectic_euler, runge_kutta]\n",
    "    colours = \"rgb\"\n",
    "    if theo:\n",
    "        labels += [\"theoretical (small-angle)\"]\n",
    "        methods += [small_angle_soln]\n",
    "        colours =\"rgbk\"\n",
    "    ys=[]\n",
    "    for meth in methods:\n",
    "        t,a = meth(*args, **extra_args)\n",
    "        ys.append(a)\n",
    "    if anim:\n",
    "        extra_args[\"labels\"] = labels\n",
    "        animate(t, ys, colours, **extra_args)\n",
    "    for i in range(len(labels)):\n",
    "        plot_phase_space(t,bound_angles(ys[i]))\n",
    "        plt.suptitle(labels[i])\n",
    "    if energies:\n",
    "        plt.figure()\n",
    "        for i in range(len(labels)):\n",
    "            plt.plot(t,energy(ys[i],**extra_args),label=labels[i])\n",
    "        plt.axhline(energy(args[0],**extra_args),color=\"k\",ls=\"--\",label=\"true value\")\n",
    "        plt.legend(frameon=False)\n",
    "        plt.xlabel(\"time\")\n",
    "        plt.ylabel(\"energy\")\n",
    "        plt.yscale(\"log\")"
   ],
   "id": "40"
  },
  {
   "cell_type": "markdown",
   "metadata": {
    "flags": [
     "problems",
     "solutions"
    ]
   },
   "source": [
    "For a small angle, compare the three methods to the theoretical solution. Which methods are able to capture the continuous behaviour, and which aren't? Simply running the following cell will give you lots of information."
   ],
   "id": "41"
  },
  {
   "cell_type": "code",
   "execution_count": null,
   "metadata": {
    "collapsed": true,
    "flags": [
     "problems"
    ]
   },
   "outputs": [],
   "source": [
    "%time compare_methods([0.01,0,0,0], 60, 500, theo=True)"
   ],
   "id": "42"
  },
  {
   "cell_type": "markdown",
   "metadata": {},
   "source": [
    "Write your answer here"
   ],
   "id": "43"
  },
  {
   "cell_type": "markdown",
   "metadata": {},
   "source": [
    "### 1j. "
   ],
   "id": "44"
  },
  {
   "cell_type": "markdown",
   "metadata": {
    "flags": [
     "problems",
     "solutions"
    ]
   },
   "source": [
    "Compare the three methods outside of the small-angle regime. For how long do they display qualitatively similar behaviour? Which method, if any, can we trust?"
   ],
   "id": "45"
  },
  {
   "cell_type": "code",
   "metadata": {},
   "source": [
    "#Write your answer here"
   ],
   "outputs": [],
   "execution_count": null,
   "id": "46"
  },
  {
   "cell_type": "markdown",
   "metadata": {},
   "source": [
    "### 1k. "
   ],
   "id": "47"
  },
  {
   "cell_type": "markdown",
   "metadata": {
    "flags": [
     "problems",
     "solutions"
    ]
   },
   "source": [
    "A good test that the differential equation solvers aren't accumulating errors is to check if constants of the motion are conserved (the ODE solvers don't know about conserved quantities, so they don't enforce them; if they did they would be more efficient). Here, the only (known) conserved quantity is energy. Why is that?"
   ],
   "id": "48"
  },
  {
   "cell_type": "markdown",
   "metadata": {},
   "source": [
    "Write your answer here"
   ],
   "id": "49"
  },
  {
   "cell_type": "markdown",
   "metadata": {},
   "source": [
    "### 1l. "
   ],
   "id": "50"
  },
  {
   "cell_type": "markdown",
   "metadata": {
    "flags": [
     "problems",
     "solutions"
    ]
   },
   "source": [
    "Implement the following function to calculate the energies of state vectors. After implementing this function, you can pass `energies=True` to `compare_methods()` to also plot the energies of the trajectories, to check if it is constant."
   ],
   "id": "51"
  },
  {
   "cell_type": "code",
   "execution_count": null,
   "metadata": {
    "collapsed": true,
    "flags": [
     "problems"
    ]
   },
   "outputs": [],
   "source": [
    "def energy(states, m1=1, m2=1, L1=1, L2=1, g=1):\n",
    "    \"\"\"states is array of shape (4,N). Returns energies in array of shape (N,).\"\"\"\n",
    "    return #fill me in"
   ],
   "id": "52"
  },
  {
   "cell_type": "markdown",
   "metadata": {},
   "source": [
    "### 1m. "
   ],
   "id": "53"
  },
  {
   "cell_type": "markdown",
   "metadata": {
    "flags": [
     "problems",
     "solutions"
    ]
   },
   "source": [
    "Now, integrating to large times (you might want to turn off animation), compare the three methods outside of the small-angle regime, also comparing the energies. How much can we trust the best method, and upto what sort of time scale?"
   ],
   "id": "54"
  },
  {
   "cell_type": "code",
   "metadata": {},
   "source": [
    "#Write your answer here"
   ],
   "outputs": [],
   "execution_count": null,
   "id": "55"
  },
  {
   "cell_type": "markdown",
   "metadata": {},
   "source": [
    "### 1n. "
   ],
   "id": "56"
  },
  {
   "cell_type": "markdown",
   "metadata": {
    "flags": [
     "problems",
     "solutions"
    ]
   },
   "source": [
    "You might have heard that the double pendulum is chaotic. This means that it is extremely sensitive to initial conditions. To demonstrate this, make an animation of a few pendula that start off very close together but then diverge. Verify that the solver you use isn't giving you terribly unreasonable results."
   ],
   "id": "57"
  },
  {
   "cell_type": "code",
   "metadata": {},
   "source": [
    "#Write your answer here"
   ],
   "outputs": [],
   "execution_count": null,
   "id": "58"
  },
  {
   "cell_type": "markdown",
   "metadata": {},
   "source": [
    "### 1o. "
   ],
   "id": "59"
  },
  {
   "cell_type": "markdown",
   "metadata": {
    "flags": [
     "problems",
     "solutions"
    ]
   },
   "source": [
    "Chaotic systems aren't just unstable to perturbations: they are __extremely__ unstable to perturbations. Perturbations must grow exponentially for a system to be chaotic. Choose an appropriate initial state and find its trajectory. Then perturb it slightly in a few different ways, and track the differences in the trajectories. How quickly do perturbations grow? Is the double pendulum chaotic inside the small-angle regime (remember that most trajectories are dense)? How about outside it?"
   ],
   "id": "60"
  },
  {
   "cell_type": "code",
   "metadata": {},
   "source": [
    "#Write your answer here"
   ],
   "outputs": [],
   "execution_count": null,
   "id": "61"
  },
  {
   "cell_type": "markdown",
   "metadata": {},
   "source": [
    "### 1p. "
   ],
   "id": "62"
  },
  {
   "cell_type": "markdown",
   "metadata": {
    "flags": [
     "problems",
     "solutions"
    ]
   },
   "source": [
    "Suppose an experimenter initialises a pendulum to some state. Now, in the real world, we only have access to a finite level of accuracy. Assuming that the error in the initialisation/measurement of each parameter is independent and Gaussian, argue that the pendulum is not described by a single state, but by a Gaussian distribution over states. What happens to this distribution over time?"
   ],
   "id": "63"
  },
  {
   "cell_type": "markdown",
   "metadata": {},
   "source": [
    "Write your answer here"
   ],
   "id": "64"
  }
 ],
 "metadata": {
  "kernelspec": {
   "display_name": "Python [default]",
   "language": "python",
   "name": "python3"
  },
  "language_info": {
   "codemirror_mode": {
    "name": "ipython",
    "version": 3
   },
   "file_extension": ".py",
   "mimetype": "text/x-python",
   "name": "python",
   "nbconvert_exporter": "python",
   "pygments_lexer": "ipython3",
   "version": "3.6.8"
  }
 },
 "nbformat": 4,
 "nbformat_minor": 5
}