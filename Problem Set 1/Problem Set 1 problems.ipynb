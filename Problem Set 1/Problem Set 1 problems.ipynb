{
 "cells": [
  {
   "cell_type": "markdown",
   "metadata": {},
   "source": [
    "# Problem Set 1 problems"
   ],
   "id": "0"
  },
  {
   "cell_type": "markdown",
   "metadata": {},
   "source": [
    "## Question 1: Fourier Series"
   ],
   "id": "1"
  },
  {
   "cell_type": "markdown",
   "metadata": {},
   "source": [
    "### Learning objectives\n",
    "In this question you will:\n",
    "\n",
    "- understand how a function can be expanded in a series\n",
    "- see how the accuracy of an approximation improves with the number of terms\n"
   ],
   "id": "2"
  },
  {
   "cell_type": "markdown",
   "metadata": {
    "flags": [
     "problems",
     "solutions"
    ]
   },
   "source": [
    "The set of square-integrable functions ($\\int |f(x)|^2dx<\\infty$) on the interval $[0,\\lambda]$ make up a _Hilbert space_, which is a vector space with an inner product that satisfies certain properties. In this case the space is known as $L^2([0,\\lambda])$, with inner product $\\langle f,g\\rangle = \\int_0^\\lambda f(x)g(x)\\:dx$.\n",
    "\n",
    "With $k_n=n\\frac{2\\pi}{\\lambda}$, the functions $c_n = \\cos(k_nx)$ and $s_n =\\sin(k_nx)$ form a __complete and orthogonal basis__ of this Hilbert space, known as the _Fourier basis_. Orthogonality means \\begin{align} \\langle c_m,c_n\\rangle &=C_n\\delta_{m,n},\\\\\\langle s_m,s_n\\rangle &=S_n\\delta_{m,n},\\\\\\langle c_n,s_m\\rangle &= 0,\\end{align} and completeness means $$\\forall f\\in L^2([0,\\lambda]),\\quad f = \\sum_{n=0}^\\infty\\left(\\frac{\\langle f,c_n\\rangle}{C_n} c_n+\\frac{\\langle f,s_n\\rangle}{S_n} s_n\\right).$$ This means that any square-integrable function $f(x)$ on a finite domain can be written as a sum of sines and cosines, $$f(x)=\\sum_{n=0}^\\infty\\big(A_n\\cos(k_nx)+B_n\\sin(k_nx)\\big).$$ Furthermore, we are guaranteed that at all points $x$ where $f$ is continuous, the above sum converges (so the terms $A_n\\cos(k_nx)+B_n\\sin(k_nx)$ decrease sufficiently quickly). This can be extended to periodic functions in the obvious manner.\n",
    "\n",
    "(We have formulated things in terms of $x$, suggesting a \"spatial\" variable, but of course this holds for functions of any variable. When the variable is \"time\", the symbols used are conventionally $t$, $\\omega$, and $T$ instead of $x$, $k$, and $\\lambda$. Also, $s_0=0$ and is implicitly excluded from the above sums.)"
   ],
   "id": "3"
  },
  {
   "cell_type": "markdown",
   "metadata": {},
   "source": [
    "### 1a. "
   ],
   "id": "4"
  },
  {
   "cell_type": "markdown",
   "metadata": {
    "flags": [
     "problems",
     "solutions"
    ]
   },
   "source": [
    "Show that the Fourier basis is orthogonal, and find the normalisations $C_n$ and $S_n$.\n",
    "\n",
    "Hint: $\\cos(a+b)=\\cos a\\cos b-\\sin a\\sin b$."
   ],
   "id": "5"
  },
  {
   "cell_type": "markdown",
   "metadata": {},
   "source": [
    "Write your answer here"
   ],
   "id": "6"
  },
  {
   "cell_type": "markdown",
   "metadata": {},
   "source": [
    "### 1b. "
   ],
   "id": "7"
  },
  {
   "cell_type": "markdown",
   "metadata": {
    "flags": [
     "problems",
     "solutions"
    ]
   },
   "source": [
    "Find the Fourier coefficients $A_n$ and $B_n$ of a square function, which is a common periodic signal: $$f(x)=\\begin{cases}f_0&\\text{if }a\\le x\\le b\\\\f_1&\\text{else}\\end{cases},$$ for $0\\le a\\le b\\le\\lambda$.\n",
    "\n",
    "Hint: adding a constant to a function only changes the $A_0$ term."
   ],
   "id": "8"
  },
  {
   "cell_type": "markdown",
   "metadata": {},
   "source": [
    "Write your answer here"
   ],
   "id": "9"
  },
  {
   "cell_type": "markdown",
   "metadata": {},
   "source": [
    "### 1c. "
   ],
   "id": "10"
  },
  {
   "cell_type": "markdown",
   "metadata": {
    "flags": [
     "problems",
     "solutions"
    ]
   },
   "source": [
    "While we have exact equality in the $n\\rightarrow\\infty$ limit, with finite resources we may only compute a finite number of terms. Plot the true signal, on top of the approximations with 2, 5, 10, and 100 terms. Set $a=\\frac{\\lambda}{2}$, $b=\\lambda$, $\\lambda=2\\pi$, and $f_0=-f_1=1$."
   ],
   "id": "11"
  },
  {
   "cell_type": "code",
   "metadata": {},
   "source": [
    "#Write your answer here"
   ],
   "outputs": [],
   "execution_count": null,
   "id": "12"
  },
  {
   "cell_type": "markdown",
   "metadata": {},
   "source": [
    "### 1d. "
   ],
   "id": "13"
  },
  {
   "cell_type": "markdown",
   "metadata": {
    "flags": [
     "problems",
     "solutions"
    ]
   },
   "source": [
    "Now compute the Fourier series representation of the triangular function, $$f(x)=\\begin{cases}x&\\text{if }0\\le x\\le\\frac{\\lambda}{4}\\\\\\frac{\\lambda}{2}-x&\\text{if }\\frac{\\lambda}{4}\\le x\\le\\frac{3\\lambda}{4}\\\\x-\\lambda&\\text{if }\\frac{3\\lambda}{4}\\le x\\le\\lambda\\end{cases},$$ periodically continued.\n",
    "\n",
    "Hint: Use integration by parts."
   ],
   "id": "14"
  },
  {
   "cell_type": "markdown",
   "metadata": {},
   "source": [
    "Write your answer here"
   ],
   "id": "15"
  },
  {
   "cell_type": "markdown",
   "metadata": {},
   "source": [
    "### 1e. "
   ],
   "id": "16"
  },
  {
   "cell_type": "markdown",
   "metadata": {
    "flags": [
     "problems",
     "solutions"
    ]
   },
   "source": [
    "Plot the true signal for the triangular function, on top of the approximations with 2, 5, 10, and 100 terms. Again, set $\\lambda=2\\pi$."
   ],
   "id": "17"
  },
  {
   "cell_type": "code",
   "metadata": {},
   "source": [
    "#Write your answer here"
   ],
   "outputs": [],
   "execution_count": null,
   "id": "18"
  },
  {
   "cell_type": "markdown",
   "metadata": {},
   "source": [
    "### 1f. "
   ],
   "id": "19"
  },
  {
   "cell_type": "markdown",
   "metadata": {
    "flags": [
     "problems",
     "solutions"
    ]
   },
   "source": [
    "For each of the functions whose Fourier series you have computed, estimate the absolute value of the overshoot or undershoot at the kink or discontinuity caused by the Gibbs phenomenon as a function of the number of terms in the series. Plot your results on the sample plot for each $n\\le 100$, with the errors in a log-scale.\n",
    "\n",
    "Hint: if you used a fine enough resolution for your plotting array ($k_n\\Delta x\\ll 1$), just find the sampled overshoot by e.g. comparing the maximum/minimum sampled value to the true max/min."
   ],
   "id": "20"
  },
  {
   "cell_type": "code",
   "metadata": {},
   "source": [
    "#Write your answer here"
   ],
   "outputs": [],
   "execution_count": null,
   "id": "21"
  },
  {
   "cell_type": "markdown",
   "metadata": {},
   "source": [
    "### 1g. "
   ],
   "id": "22"
  },
  {
   "cell_type": "markdown",
   "metadata": {
    "flags": [
     "problems",
     "solutions"
    ]
   },
   "source": [
    "__(Completely Optional---Not worth any points)__ A function on a continuous interval consists of a value at each point in an uncountable domain, so has an uncountable number of degrees of freedom. However, its Fourier series has a countable number of degrees of freedom. How do we resolve this (apparent) paradox? \n",
    "\n",
    "(Hint: one of the defining properties of a Hilbert space is _nondegeneracy_: $\\lVert f\\rVert = \\langle f,f\\rangle=0\\implies f=0$.)"
   ],
   "id": "23"
  },
  {
   "cell_type": "markdown",
   "metadata": {},
   "source": [
    "Write your answer here"
   ],
   "id": "24"
  },
  {
   "cell_type": "markdown",
   "metadata": {
    "flags": [
     "problems",
     "solutions"
    ]
   },
   "source": [
    "#### On notation\n",
    "When working with functions that map to $\\mathbb C$ instead of $\\mathbb R$, the inner product $\\langle f,g\\rangle = \\int f^*(x)g(x)\\:dx$ is used. In $\\mathbb C$, the Fourier basis is $f_n(x) = e^{ik_nx}$, with complex coefficients $C_n$, for $-\\infty<n<\\infty$. For real functions in this convention, we have $C_n = C_{-n}^*=\\tfrac{1}{2}(A_n - iB_n)$. \n",
    "\n",
    "Complex numbers are preferred particularly in quantum mechanics. It is common in this context to use _Dirac notation_, in which elements of a Hilbert space are represented by objects like $|f\\rangle$, known as _kets_. It is common to define a _dual_ Hilbert space $H^*$ as the set of continuous linear maps from the Hilbert space $H$ to $\\mathbb R$ (or $\\mathbb C$). The _Riesz representation theorem_ guarantees that each element of the dual space can be respresented by an element of the Hilbert space, which acts on other elements by the inner product , i.e. $\\forall g\\in H^*,\\:\\exists f\\in H\\:{\\rm s.t.}\\:\\forall h\\in H,\\: g(h) = \\langle f, h\\rangle$. Thus, in Dirac notation, elements of the dual space are denoted using _bras_, $\\langle f|$, so that the inner product can be denoted by _brackets_ $\\langle f|g\\rangle$.\n",
    "\n",
    "An equivalent way to state the completeness of an orthogonal basis $|f_n\\rangle$ is that the projection operator into this basis $\\sum_n\\frac{1}{\\langle f_n|f_n\\rangle}|f_n\\rangle\\langle f_n|$ is the identity operator $\\mathbb 1$. For the Fourier basis, borrowing Dirac notation, we have \n",
    "$$\\mathbb 1 = \\sum_{n=0}^\\infty\\left(\\frac{1}{S_n}|s_n\\rangle\\langle s_n|+\\frac{1}{C_n}|c_n\\rangle\\langle c_n|\\right).$$\n",
    "\n",
    "Several complete, orthogonal bases exist for a variety of spaces (like the full real line, the sphere, etc.) and are useful in various areas of physics, including:\n",
    "- Legendre polynomials\n",
    "- Bessel functions\n",
    "- Hermite polynomials\n",
    "- Chebyshev polynomials\n",
    "\n",
    "These functions can be derived as solutions to common differential equations, which become \"independent\" in the appropriate basis. Then a solution is often found by decomposing boundary conditions into a sum over these independent \"modes\"."
   ],
   "id": "25"
  }
 ],
 "metadata": {
  "kernelspec": {
   "display_name": "Python [default]",
   "language": "python",
   "name": "python3"
  },
  "language_info": {
   "codemirror_mode": {
    "name": "ipython",
    "version": 3
   },
   "file_extension": ".py",
   "mimetype": "text/x-python",
   "name": "python",
   "nbconvert_exporter": "python",
   "pygments_lexer": "ipython3",
   "version": "3.6.8"
  }
 },
 "nbformat": 4,
 "nbformat_minor": 5
}
